{
 "cells": [
  {
   "cell_type": "markdown",
   "id": "2bc7065a",
   "metadata": {},
   "source": [
    "# Pandas Tips: `read_csv()`"
   ]
  },
  {
   "cell_type": "code",
   "execution_count": 2,
   "id": "5dc2e246",
   "metadata": {},
   "outputs": [],
   "source": [
    "import pandas as pd"
   ]
  },
  {
   "cell_type": "markdown",
   "id": "872a2525",
   "metadata": {},
   "source": [
    "Check your pandas version to ensure similar behavior. \n",
    "\n",
    "_Version 2.1.1 was released September 2023._"
   ]
  },
  {
   "cell_type": "code",
   "execution_count": 3,
   "id": "555e4adc",
   "metadata": {},
   "outputs": [
    {
     "data": {
      "text/plain": [
       "'2.1.1'"
      ]
     },
     "execution_count": 3,
     "metadata": {},
     "output_type": "execute_result"
    }
   ],
   "source": [
    "pd.__version__"
   ]
  },
  {
   "cell_type": "markdown",
   "id": "151c39f8",
   "metadata": {},
   "source": [
    "## Basics"
   ]
  },
  {
   "cell_type": "markdown",
   "id": "a6495057",
   "metadata": {},
   "source": [
    "### Reading from computer file"
   ]
  },
  {
   "cell_type": "code",
   "execution_count": 20,
   "id": "1927b4c4",
   "metadata": {},
   "outputs": [
    {
     "name": "stdout",
     "output_type": "stream",
     "text": [
      "customers.csv  dataset_gen.py read_csv.ipynb\r\n"
     ]
    }
   ],
   "source": [
    "!ls"
   ]
  },
  {
   "cell_type": "code",
   "execution_count": 4,
   "id": "181c6825",
   "metadata": {},
   "outputs": [],
   "source": [
    "df = pd.read_csv('customers.csv')"
   ]
  },
  {
   "cell_type": "code",
   "execution_count": 5,
   "id": "a038a39e",
   "metadata": {},
   "outputs": [
    {
     "data": {
      "text/html": [
       "<div>\n",
       "<style scoped>\n",
       "    .dataframe tbody tr th:only-of-type {\n",
       "        vertical-align: middle;\n",
       "    }\n",
       "\n",
       "    .dataframe tbody tr th {\n",
       "        vertical-align: top;\n",
       "    }\n",
       "\n",
       "    .dataframe thead th {\n",
       "        text-align: right;\n",
       "    }\n",
       "</style>\n",
       "<table border=\"1\" class=\"dataframe\">\n",
       "  <thead>\n",
       "    <tr style=\"text-align: right;\">\n",
       "      <th></th>\n",
       "      <th>ID</th>\n",
       "      <th>First Name</th>\n",
       "      <th>Last Name</th>\n",
       "      <th>Phone</th>\n",
       "      <th>LTV</th>\n",
       "    </tr>\n",
       "  </thead>\n",
       "  <tbody>\n",
       "    <tr>\n",
       "      <th>0</th>\n",
       "      <td>4576</td>\n",
       "      <td>Sophia</td>\n",
       "      <td>Walker</td>\n",
       "      <td>602-310-9331</td>\n",
       "      <td>$496.87</td>\n",
       "    </tr>\n",
       "    <tr>\n",
       "      <th>1</th>\n",
       "      <td>9488</td>\n",
       "      <td>Evelyn</td>\n",
       "      <td>Harris</td>\n",
       "      <td>171-363-6978</td>\n",
       "      <td>$38,424.41</td>\n",
       "    </tr>\n",
       "    <tr>\n",
       "      <th>2</th>\n",
       "      <td>7265</td>\n",
       "      <td>Lucas</td>\n",
       "      <td>Foster</td>\n",
       "      <td>139-658-8905</td>\n",
       "      <td>$14,413.64</td>\n",
       "    </tr>\n",
       "    <tr>\n",
       "      <th>3</th>\n",
       "      <td>8555</td>\n",
       "      <td>Elijah</td>\n",
       "      <td>Jones</td>\n",
       "      <td>538-241-9868</td>\n",
       "      <td>$13,440.49</td>\n",
       "    </tr>\n",
       "    <tr>\n",
       "      <th>4</th>\n",
       "      <td>7023</td>\n",
       "      <td>Mason</td>\n",
       "      <td>Taylor</td>\n",
       "      <td>937-595-5837</td>\n",
       "      <td>$1,777.37</td>\n",
       "    </tr>\n",
       "  </tbody>\n",
       "</table>\n",
       "</div>"
      ],
      "text/plain": [
       "     ID First Name Last Name         Phone          LTV\n",
       "0  4576     Sophia    Walker  602-310-9331     $496.87 \n",
       "1  9488     Evelyn    Harris  171-363-6978  $38,424.41 \n",
       "2  7265      Lucas    Foster  139-658-8905  $14,413.64 \n",
       "3  8555     Elijah     Jones  538-241-9868  $13,440.49 \n",
       "4  7023      Mason    Taylor  937-595-5837   $1,777.37 "
      ]
     },
     "execution_count": 5,
     "metadata": {},
     "output_type": "execute_result"
    }
   ],
   "source": [
    "df.head()"
   ]
  },
  {
   "cell_type": "markdown",
   "id": "0d9776ef",
   "metadata": {},
   "source": [
    "### Reading from a URL"
   ]
  },
  {
   "cell_type": "code",
   "execution_count": 9,
   "id": "80fc00c6",
   "metadata": {},
   "outputs": [],
   "source": [
    "df_url = pd.read_csv('https://raw.githubusercontent.com/kimfetti/Videos/master/Pandas_Tips/data/customers.csv')"
   ]
  },
  {
   "cell_type": "code",
   "execution_count": 10,
   "id": "4637d3aa",
   "metadata": {},
   "outputs": [
    {
     "data": {
      "text/html": [
       "<div>\n",
       "<style scoped>\n",
       "    .dataframe tbody tr th:only-of-type {\n",
       "        vertical-align: middle;\n",
       "    }\n",
       "\n",
       "    .dataframe tbody tr th {\n",
       "        vertical-align: top;\n",
       "    }\n",
       "\n",
       "    .dataframe thead th {\n",
       "        text-align: right;\n",
       "    }\n",
       "</style>\n",
       "<table border=\"1\" class=\"dataframe\">\n",
       "  <thead>\n",
       "    <tr style=\"text-align: right;\">\n",
       "      <th></th>\n",
       "      <th>ID</th>\n",
       "      <th>First Name</th>\n",
       "      <th>Last Name</th>\n",
       "      <th>Phone</th>\n",
       "      <th>LTV</th>\n",
       "    </tr>\n",
       "  </thead>\n",
       "  <tbody>\n",
       "    <tr>\n",
       "      <th>0</th>\n",
       "      <td>4576</td>\n",
       "      <td>Sophia</td>\n",
       "      <td>Walker</td>\n",
       "      <td>602-310-9331</td>\n",
       "      <td>$496.87</td>\n",
       "    </tr>\n",
       "    <tr>\n",
       "      <th>1</th>\n",
       "      <td>9488</td>\n",
       "      <td>Evelyn</td>\n",
       "      <td>Harris</td>\n",
       "      <td>171-363-6978</td>\n",
       "      <td>$38,424.41</td>\n",
       "    </tr>\n",
       "    <tr>\n",
       "      <th>2</th>\n",
       "      <td>7265</td>\n",
       "      <td>Lucas</td>\n",
       "      <td>Foster</td>\n",
       "      <td>139-658-8905</td>\n",
       "      <td>$14,413.64</td>\n",
       "    </tr>\n",
       "    <tr>\n",
       "      <th>3</th>\n",
       "      <td>8555</td>\n",
       "      <td>Elijah</td>\n",
       "      <td>Jones</td>\n",
       "      <td>538-241-9868</td>\n",
       "      <td>$13,440.49</td>\n",
       "    </tr>\n",
       "    <tr>\n",
       "      <th>4</th>\n",
       "      <td>7023</td>\n",
       "      <td>Mason</td>\n",
       "      <td>Taylor</td>\n",
       "      <td>937-595-5837</td>\n",
       "      <td>$1,777.37</td>\n",
       "    </tr>\n",
       "  </tbody>\n",
       "</table>\n",
       "</div>"
      ],
      "text/plain": [
       "     ID First Name Last Name         Phone          LTV\n",
       "0  4576     Sophia    Walker  602-310-9331     $496.87 \n",
       "1  9488     Evelyn    Harris  171-363-6978  $38,424.41 \n",
       "2  7265      Lucas    Foster  139-658-8905  $14,413.64 \n",
       "3  8555     Elijah     Jones  538-241-9868  $13,440.49 \n",
       "4  7023      Mason    Taylor  937-595-5837   $1,777.37 "
      ]
     },
     "execution_count": 10,
     "metadata": {},
     "output_type": "execute_result"
    }
   ],
   "source": [
    "df_url.head()"
   ]
  },
  {
   "cell_type": "markdown",
   "id": "f6810e00",
   "metadata": {},
   "source": [
    "## $\\star$ Level Up! $\\star$"
   ]
  },
  {
   "cell_type": "markdown",
   "id": "3589f61e",
   "metadata": {},
   "source": [
    "### Index by a column: `index_col`"
   ]
  },
  {
   "cell_type": "code",
   "execution_count": 11,
   "id": "fcc264b4",
   "metadata": {},
   "outputs": [],
   "source": [
    "df = pd.read_csv(\n",
    "    'customers.csv',\n",
    "    index_col = 'ID' \n",
    ")"
   ]
  },
  {
   "cell_type": "code",
   "execution_count": 12,
   "id": "134d1556",
   "metadata": {},
   "outputs": [
    {
     "data": {
      "text/html": [
       "<div>\n",
       "<style scoped>\n",
       "    .dataframe tbody tr th:only-of-type {\n",
       "        vertical-align: middle;\n",
       "    }\n",
       "\n",
       "    .dataframe tbody tr th {\n",
       "        vertical-align: top;\n",
       "    }\n",
       "\n",
       "    .dataframe thead th {\n",
       "        text-align: right;\n",
       "    }\n",
       "</style>\n",
       "<table border=\"1\" class=\"dataframe\">\n",
       "  <thead>\n",
       "    <tr style=\"text-align: right;\">\n",
       "      <th></th>\n",
       "      <th>First Name</th>\n",
       "      <th>Last Name</th>\n",
       "      <th>Phone</th>\n",
       "      <th>LTV</th>\n",
       "    </tr>\n",
       "    <tr>\n",
       "      <th>ID</th>\n",
       "      <th></th>\n",
       "      <th></th>\n",
       "      <th></th>\n",
       "      <th></th>\n",
       "    </tr>\n",
       "  </thead>\n",
       "  <tbody>\n",
       "    <tr>\n",
       "      <th>4576</th>\n",
       "      <td>Sophia</td>\n",
       "      <td>Walker</td>\n",
       "      <td>602-310-9331</td>\n",
       "      <td>$496.87</td>\n",
       "    </tr>\n",
       "    <tr>\n",
       "      <th>9488</th>\n",
       "      <td>Evelyn</td>\n",
       "      <td>Harris</td>\n",
       "      <td>171-363-6978</td>\n",
       "      <td>$38,424.41</td>\n",
       "    </tr>\n",
       "    <tr>\n",
       "      <th>7265</th>\n",
       "      <td>Lucas</td>\n",
       "      <td>Foster</td>\n",
       "      <td>139-658-8905</td>\n",
       "      <td>$14,413.64</td>\n",
       "    </tr>\n",
       "    <tr>\n",
       "      <th>8555</th>\n",
       "      <td>Elijah</td>\n",
       "      <td>Jones</td>\n",
       "      <td>538-241-9868</td>\n",
       "      <td>$13,440.49</td>\n",
       "    </tr>\n",
       "    <tr>\n",
       "      <th>7023</th>\n",
       "      <td>Mason</td>\n",
       "      <td>Taylor</td>\n",
       "      <td>937-595-5837</td>\n",
       "      <td>$1,777.37</td>\n",
       "    </tr>\n",
       "  </tbody>\n",
       "</table>\n",
       "</div>"
      ],
      "text/plain": [
       "     First Name Last Name         Phone          LTV\n",
       "ID                                                  \n",
       "4576     Sophia    Walker  602-310-9331     $496.87 \n",
       "9488     Evelyn    Harris  171-363-6978  $38,424.41 \n",
       "7265      Lucas    Foster  139-658-8905  $14,413.64 \n",
       "8555     Elijah     Jones  538-241-9868  $13,440.49 \n",
       "7023      Mason    Taylor  937-595-5837   $1,777.37 "
      ]
     },
     "execution_count": 12,
     "metadata": {},
     "output_type": "execute_result"
    }
   ],
   "source": [
    "df.head()"
   ]
  },
  {
   "cell_type": "markdown",
   "id": "9b29971e",
   "metadata": {},
   "source": [
    "### Specify missing value characters: `na_values`"
   ]
  },
  {
   "cell_type": "code",
   "execution_count": 13,
   "id": "58c5924f",
   "metadata": {},
   "outputs": [
    {
     "name": "stdout",
     "output_type": "stream",
     "text": [
      "<class 'pandas.core.frame.DataFrame'>\n",
      "Index: 1000 entries, 4576 to 9062\n",
      "Data columns (total 4 columns):\n",
      " #   Column      Non-Null Count  Dtype \n",
      "---  ------      --------------  ----- \n",
      " 0   First Name  1000 non-null   object\n",
      " 1   Last Name   1000 non-null   object\n",
      " 2   Phone       968 non-null    object\n",
      " 3   LTV         986 non-null    object\n",
      "dtypes: object(4)\n",
      "memory usage: 39.1+ KB\n"
     ]
    }
   ],
   "source": [
    "df.info()"
   ]
  },
  {
   "cell_type": "code",
   "execution_count": 14,
   "id": "6a802f17",
   "metadata": {},
   "outputs": [
    {
     "data": {
      "text/plain": [
       "Phone\n",
       "?               31\n",
       "602-310-9331     1\n",
       "411-437-8722     1\n",
       "563-866-1233     1\n",
       "406-143-1943     1\n",
       "                ..\n",
       "384-871-5619     1\n",
       "474-968-5565     1\n",
       "244-703-2661     1\n",
       "209-882-7213     1\n",
       "412-368-2550     1\n",
       "Name: count, Length: 938, dtype: int64"
      ]
     },
     "execution_count": 14,
     "metadata": {},
     "output_type": "execute_result"
    }
   ],
   "source": [
    "df.Phone.value_counts()"
   ]
  },
  {
   "cell_type": "code",
   "execution_count": 15,
   "id": "69eed33e",
   "metadata": {},
   "outputs": [
    {
     "data": {
      "text/plain": [
       "LTV\n",
       "?              12\n",
       "$496.87         1\n",
       "$4,031.13       1\n",
       "$2,158.26       1\n",
       "$7,342.30       1\n",
       "               ..\n",
       "$901.23         1\n",
       "$8,279.17       1\n",
       "$907.24         1\n",
       "$1,326.67       1\n",
       "$14,686.60      1\n",
       "Name: count, Length: 975, dtype: int64"
      ]
     },
     "execution_count": 15,
     "metadata": {},
     "output_type": "execute_result"
    }
   ],
   "source": [
    "df.LTV.value_counts()"
   ]
  },
  {
   "cell_type": "code",
   "execution_count": 32,
   "id": "3d1b4a25",
   "metadata": {},
   "outputs": [],
   "source": [
    "df = pd.read_csv(\n",
    "    'customers.csv',\n",
    "    index_col = 'ID', #index by ID column\n",
    "    na_values = '?'\n",
    ")"
   ]
  },
  {
   "cell_type": "code",
   "execution_count": 33,
   "id": "c7ca4ef6",
   "metadata": {},
   "outputs": [
    {
     "data": {
      "text/html": [
       "<div>\n",
       "<style scoped>\n",
       "    .dataframe tbody tr th:only-of-type {\n",
       "        vertical-align: middle;\n",
       "    }\n",
       "\n",
       "    .dataframe tbody tr th {\n",
       "        vertical-align: top;\n",
       "    }\n",
       "\n",
       "    .dataframe thead th {\n",
       "        text-align: right;\n",
       "    }\n",
       "</style>\n",
       "<table border=\"1\" class=\"dataframe\">\n",
       "  <thead>\n",
       "    <tr style=\"text-align: right;\">\n",
       "      <th></th>\n",
       "      <th>First Name</th>\n",
       "      <th>Last Name</th>\n",
       "      <th>Phone</th>\n",
       "      <th>LTV</th>\n",
       "    </tr>\n",
       "    <tr>\n",
       "      <th>ID</th>\n",
       "      <th></th>\n",
       "      <th></th>\n",
       "      <th></th>\n",
       "      <th></th>\n",
       "    </tr>\n",
       "  </thead>\n",
       "  <tbody>\n",
       "    <tr>\n",
       "      <th>4576</th>\n",
       "      <td>Sophia</td>\n",
       "      <td>Walker</td>\n",
       "      <td>602-310-9331</td>\n",
       "      <td>$496.87</td>\n",
       "    </tr>\n",
       "    <tr>\n",
       "      <th>9488</th>\n",
       "      <td>Evelyn</td>\n",
       "      <td>Harris</td>\n",
       "      <td>171-363-6978</td>\n",
       "      <td>$38,424.41</td>\n",
       "    </tr>\n",
       "    <tr>\n",
       "      <th>7265</th>\n",
       "      <td>Lucas</td>\n",
       "      <td>Foster</td>\n",
       "      <td>139-658-8905</td>\n",
       "      <td>$14,413.64</td>\n",
       "    </tr>\n",
       "    <tr>\n",
       "      <th>8555</th>\n",
       "      <td>Elijah</td>\n",
       "      <td>Jones</td>\n",
       "      <td>538-241-9868</td>\n",
       "      <td>$13,440.49</td>\n",
       "    </tr>\n",
       "    <tr>\n",
       "      <th>7023</th>\n",
       "      <td>Mason</td>\n",
       "      <td>Taylor</td>\n",
       "      <td>937-595-5837</td>\n",
       "      <td>$1,777.37</td>\n",
       "    </tr>\n",
       "  </tbody>\n",
       "</table>\n",
       "</div>"
      ],
      "text/plain": [
       "     First Name Last Name         Phone          LTV\n",
       "ID                                                  \n",
       "4576     Sophia    Walker  602-310-9331     $496.87 \n",
       "9488     Evelyn    Harris  171-363-6978  $38,424.41 \n",
       "7265      Lucas    Foster  139-658-8905  $14,413.64 \n",
       "8555     Elijah     Jones  538-241-9868  $13,440.49 \n",
       "7023      Mason    Taylor  937-595-5837   $1,777.37 "
      ]
     },
     "execution_count": 33,
     "metadata": {},
     "output_type": "execute_result"
    }
   ],
   "source": [
    "df.head()"
   ]
  },
  {
   "cell_type": "code",
   "execution_count": 34,
   "id": "669104cf",
   "metadata": {},
   "outputs": [
    {
     "name": "stdout",
     "output_type": "stream",
     "text": [
      "<class 'pandas.core.frame.DataFrame'>\n",
      "Index: 1000 entries, 4576 to 9062\n",
      "Data columns (total 4 columns):\n",
      " #   Column      Non-Null Count  Dtype \n",
      "---  ------      --------------  ----- \n",
      " 0   First Name  1000 non-null   object\n",
      " 1   Last Name   1000 non-null   object\n",
      " 2   Phone       937 non-null    object\n",
      " 3   LTV         974 non-null    object\n",
      "dtypes: object(4)\n",
      "memory usage: 39.1+ KB\n"
     ]
    }
   ],
   "source": [
    "df.info()"
   ]
  },
  {
   "cell_type": "code",
   "execution_count": 19,
   "id": "71935fcf",
   "metadata": {},
   "outputs": [
    {
     "data": {
      "text/plain": [
       "Phone\n",
       "602-310-9331    1\n",
       "681-285-1089    1\n",
       "563-866-1233    1\n",
       "406-143-1943    1\n",
       "519-110-2218    1\n",
       "               ..\n",
       "384-871-5619    1\n",
       "474-968-5565    1\n",
       "244-703-2661    1\n",
       "209-882-7213    1\n",
       "412-368-2550    1\n",
       "Name: count, Length: 937, dtype: int64"
      ]
     },
     "execution_count": 19,
     "metadata": {},
     "output_type": "execute_result"
    }
   ],
   "source": [
    "df.Phone.value_counts()"
   ]
  },
  {
   "cell_type": "markdown",
   "id": "80226b56",
   "metadata": {},
   "source": [
    "### Limiting the number of rows"
   ]
  },
  {
   "cell_type": "code",
   "execution_count": 27,
   "id": "e7c2a14a",
   "metadata": {},
   "outputs": [
    {
     "data": {
      "text/plain": [
       "(1000, 4)"
      ]
     },
     "execution_count": 27,
     "metadata": {},
     "output_type": "execute_result"
    }
   ],
   "source": [
    "df.shape"
   ]
  },
  {
   "cell_type": "code",
   "execution_count": 28,
   "id": "47025cd7",
   "metadata": {},
   "outputs": [
    {
     "data": {
      "text/html": [
       "<div>\n",
       "<style scoped>\n",
       "    .dataframe tbody tr th:only-of-type {\n",
       "        vertical-align: middle;\n",
       "    }\n",
       "\n",
       "    .dataframe tbody tr th {\n",
       "        vertical-align: top;\n",
       "    }\n",
       "\n",
       "    .dataframe thead th {\n",
       "        text-align: right;\n",
       "    }\n",
       "</style>\n",
       "<table border=\"1\" class=\"dataframe\">\n",
       "  <thead>\n",
       "    <tr style=\"text-align: right;\">\n",
       "      <th></th>\n",
       "      <th>First Name</th>\n",
       "      <th>Last Name</th>\n",
       "      <th>Phone</th>\n",
       "      <th>LTV</th>\n",
       "    </tr>\n",
       "    <tr>\n",
       "      <th>ID</th>\n",
       "      <th></th>\n",
       "      <th></th>\n",
       "      <th></th>\n",
       "      <th></th>\n",
       "    </tr>\n",
       "  </thead>\n",
       "  <tbody>\n",
       "    <tr>\n",
       "      <th>7099</th>\n",
       "      <td>David</td>\n",
       "      <td>Harris</td>\n",
       "      <td>809-428-6034</td>\n",
       "      <td>$12,799.04</td>\n",
       "    </tr>\n",
       "    <tr>\n",
       "      <th>6743</th>\n",
       "      <td>Henry</td>\n",
       "      <td>Reyes</td>\n",
       "      <td>999-363-7716</td>\n",
       "      <td>$11,043.94</td>\n",
       "    </tr>\n",
       "    <tr>\n",
       "      <th>3513</th>\n",
       "      <td>Olivia</td>\n",
       "      <td>Sanders</td>\n",
       "      <td>NaN</td>\n",
       "      <td>$10,206.00</td>\n",
       "    </tr>\n",
       "    <tr>\n",
       "      <th>4307</th>\n",
       "      <td>Emma</td>\n",
       "      <td>Cox</td>\n",
       "      <td>748-415-4613</td>\n",
       "      <td>$9,839.57</td>\n",
       "    </tr>\n",
       "    <tr>\n",
       "      <th>9062</th>\n",
       "      <td>Henry</td>\n",
       "      <td>Brown</td>\n",
       "      <td>412-368-2550</td>\n",
       "      <td>$14,686.60</td>\n",
       "    </tr>\n",
       "  </tbody>\n",
       "</table>\n",
       "</div>"
      ],
      "text/plain": [
       "     First Name Last Name         Phone          LTV\n",
       "ID                                                  \n",
       "7099      David    Harris  809-428-6034  $12,799.04 \n",
       "6743      Henry     Reyes  999-363-7716  $11,043.94 \n",
       "3513     Olivia   Sanders           NaN  $10,206.00 \n",
       "4307       Emma       Cox  748-415-4613   $9,839.57 \n",
       "9062      Henry     Brown  412-368-2550  $14,686.60 "
      ]
     },
     "execution_count": 28,
     "metadata": {},
     "output_type": "execute_result"
    }
   ],
   "source": [
    "df.tail()"
   ]
  },
  {
   "cell_type": "code",
   "execution_count": 29,
   "id": "6c92092a",
   "metadata": {},
   "outputs": [],
   "source": [
    "df = pd.read_csv(\n",
    "    'customers.csv',\n",
    "    index_col = 'ID', #index by ID column\n",
    "    na_values = '?', #treat ? characters as missings\n",
    "    nrows = 100\n",
    ")"
   ]
  },
  {
   "cell_type": "code",
   "execution_count": 30,
   "id": "b15ea4b8",
   "metadata": {},
   "outputs": [
    {
     "data": {
      "text/plain": [
       "(100, 4)"
      ]
     },
     "execution_count": 30,
     "metadata": {},
     "output_type": "execute_result"
    }
   ],
   "source": [
    "df.shape"
   ]
  },
  {
   "cell_type": "code",
   "execution_count": 31,
   "id": "b2b0b046",
   "metadata": {},
   "outputs": [
    {
     "data": {
      "text/html": [
       "<div>\n",
       "<style scoped>\n",
       "    .dataframe tbody tr th:only-of-type {\n",
       "        vertical-align: middle;\n",
       "    }\n",
       "\n",
       "    .dataframe tbody tr th {\n",
       "        vertical-align: top;\n",
       "    }\n",
       "\n",
       "    .dataframe thead th {\n",
       "        text-align: right;\n",
       "    }\n",
       "</style>\n",
       "<table border=\"1\" class=\"dataframe\">\n",
       "  <thead>\n",
       "    <tr style=\"text-align: right;\">\n",
       "      <th></th>\n",
       "      <th>First Name</th>\n",
       "      <th>Last Name</th>\n",
       "      <th>Phone</th>\n",
       "      <th>LTV</th>\n",
       "    </tr>\n",
       "    <tr>\n",
       "      <th>ID</th>\n",
       "      <th></th>\n",
       "      <th></th>\n",
       "      <th></th>\n",
       "      <th></th>\n",
       "    </tr>\n",
       "  </thead>\n",
       "  <tbody>\n",
       "    <tr>\n",
       "      <th>2229</th>\n",
       "      <td>Emma</td>\n",
       "      <td>Simmons</td>\n",
       "      <td>613-834-3513</td>\n",
       "      <td>$4,538.32</td>\n",
       "    </tr>\n",
       "    <tr>\n",
       "      <th>5039</th>\n",
       "      <td>Ava</td>\n",
       "      <td>Brown</td>\n",
       "      <td>170-576-6081</td>\n",
       "      <td>$422.52</td>\n",
       "    </tr>\n",
       "    <tr>\n",
       "      <th>2263</th>\n",
       "      <td>Victoria</td>\n",
       "      <td>Smith</td>\n",
       "      <td>971-297-2895</td>\n",
       "      <td>$5,829.51</td>\n",
       "    </tr>\n",
       "    <tr>\n",
       "      <th>9232</th>\n",
       "      <td>Lucas</td>\n",
       "      <td>Perry</td>\n",
       "      <td>534-290-4258</td>\n",
       "      <td>$7,243.49</td>\n",
       "    </tr>\n",
       "    <tr>\n",
       "      <th>8922</th>\n",
       "      <td>Joseph</td>\n",
       "      <td>Mitchell</td>\n",
       "      <td>NaN</td>\n",
       "      <td>$3,721.42</td>\n",
       "    </tr>\n",
       "  </tbody>\n",
       "</table>\n",
       "</div>"
      ],
      "text/plain": [
       "     First Name Last Name         Phone         LTV\n",
       "ID                                                 \n",
       "2229       Emma   Simmons  613-834-3513  $4,538.32 \n",
       "5039        Ava     Brown  170-576-6081    $422.52 \n",
       "2263   Victoria     Smith  971-297-2895  $5,829.51 \n",
       "9232      Lucas     Perry  534-290-4258  $7,243.49 \n",
       "8922     Joseph  Mitchell           NaN  $3,721.42 "
      ]
     },
     "execution_count": 31,
     "metadata": {},
     "output_type": "execute_result"
    }
   ],
   "source": [
    "df.tail()"
   ]
  },
  {
   "cell_type": "code",
   "execution_count": null,
   "id": "b1585a94",
   "metadata": {},
   "outputs": [],
   "source": []
  }
 ],
 "metadata": {
  "kernelspec": {
   "display_name": "Python 3 (ipykernel)",
   "language": "python",
   "name": "python3"
  },
  "language_info": {
   "codemirror_mode": {
    "name": "ipython",
    "version": 3
   },
   "file_extension": ".py",
   "mimetype": "text/x-python",
   "name": "python",
   "nbconvert_exporter": "python",
   "pygments_lexer": "ipython3",
   "version": "3.10.9"
  }
 },
 "nbformat": 4,
 "nbformat_minor": 5
}
