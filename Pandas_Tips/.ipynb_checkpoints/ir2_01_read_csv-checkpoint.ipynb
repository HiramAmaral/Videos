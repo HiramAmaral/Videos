{
 "cells": [
  {
   "cell_type": "markdown",
   "id": "2bc7065a",
   "metadata": {},
   "source": [
    "# Pandas Tips: `read_csv()`"
   ]
  },
  {
   "cell_type": "code",
   "execution_count": 13,
   "id": "5dc2e246",
   "metadata": {},
   "outputs": [],
   "source": [
    "import pandas as pd"
   ]
  },
  {
   "cell_type": "markdown",
   "id": "872a2525",
   "metadata": {},
   "source": [
    "Check your pandas version to ensure similar behavior. \n",
    "\n",
    "_Version 2.1.1 was released September 2023._"
   ]
  },
  {
   "cell_type": "code",
   "execution_count": 14,
   "id": "555e4adc",
   "metadata": {},
   "outputs": [
    {
     "data": {
      "text/plain": [
       "'2.2.2'"
      ]
     },
     "execution_count": 14,
     "metadata": {},
     "output_type": "execute_result"
    }
   ],
   "source": [
    "pd.__version__"
   ]
  },
  {
   "cell_type": "markdown",
   "id": "151c39f8",
   "metadata": {},
   "source": [
    "## Basics"
   ]
  },
  {
   "cell_type": "markdown",
   "id": "a6495057",
   "metadata": {},
   "source": [
    "### Reading from computer file"
   ]
  },
  {
   "cell_type": "code",
   "execution_count": 15,
   "id": "1927b4c4",
   "metadata": {},
   "outputs": [
    {
     "name": "stdout",
     "output_type": "stream",
     "text": [
      " O volume na unidade D ‚ IR2_SSD1\n",
      " O N£mero de S‚rie do Volume ‚ E66B-D670\n",
      "\n",
      " Pasta de D:\\IR2_GRAFICOS L123\\IR2_SEABORN\\Videos\\Pandas_Tips\n",
      "\n",
      "27/06/2024  03:53    <DIR>          .\n",
      "26/06/2024  16:17    <DIR>          ..\n",
      "26/06/2024  16:32    <DIR>          .ipynb_checkpoints\n",
      "27/06/2024  03:53            34.284 01_read_csv.ipynb\n",
      "26/06/2024  16:17            36.162 02_read_excel.ipynb\n",
      "26/06/2024  16:17            65.719 03_rename.ipynb\n",
      "26/06/2024  16:17            20.014 04_astype.ipynb\n",
      "26/06/2024  16:17            79.158 05_drop.ipynb\n",
      "26/06/2024  16:17            68.569 06_dropna.ipynb\n",
      "26/06/2024  16:17            83.357 07_drop_duplicates.ipynb\n",
      "26/06/2024  16:17            36.118 08_query.ipynb\n",
      "26/06/2024  16:29            45.067 customers.csv\n",
      "27/06/2024  03:28    <DIR>          data\n",
      "26/06/2024  16:30            11.495 ir2_leitura_1_M1.csv\n",
      "26/06/2024  16:29            13.529 pet_data.csv\n",
      "26/06/2024  16:29           125.629 store_data.xlsx\n",
      "              12 arquivo(s)        619.101 bytes\n",
      "               4 pasta(s)   235.103.244.288 bytes dispon¡veis\n"
     ]
    }
   ],
   "source": [
    "ls"
   ]
  },
  {
   "cell_type": "code",
   "execution_count": 26,
   "id": "181c6825",
   "metadata": {},
   "outputs": [],
   "source": [
    "df = pd.read_csv(r'ir2_leitura_1_M1.csv',sep=';', decimal=',')"
   ]
  },
  {
   "cell_type": "code",
   "execution_count": 17,
   "id": "a038a39e",
   "metadata": {},
   "outputs": [
    {
     "data": {
      "text/html": [
       "<div>\n",
       "<style scoped>\n",
       "    .dataframe tbody tr th:only-of-type {\n",
       "        vertical-align: middle;\n",
       "    }\n",
       "\n",
       "    .dataframe tbody tr th {\n",
       "        vertical-align: top;\n",
       "    }\n",
       "\n",
       "    .dataframe thead th {\n",
       "        text-align: right;\n",
       "    }\n",
       "</style>\n",
       "<table border=\"1\" class=\"dataframe\">\n",
       "  <thead>\n",
       "    <tr style=\"text-align: right;\">\n",
       "      <th></th>\n",
       "      <th>L1M1C1</th>\n",
       "      <th>L1M1C2</th>\n",
       "      <th>L1M1C3</th>\n",
       "      <th>L1M1C4</th>\n",
       "      <th>L1M1C5</th>\n",
       "      <th>L1M1C6</th>\n",
       "      <th>L1M1C7</th>\n",
       "      <th>L1M1C8</th>\n",
       "    </tr>\n",
       "  </thead>\n",
       "  <tbody>\n",
       "    <tr>\n",
       "      <th>0</th>\n",
       "      <td>1.961</td>\n",
       "      <td>1.990</td>\n",
       "      <td>1.922</td>\n",
       "      <td>2.005</td>\n",
       "      <td>2.000</td>\n",
       "      <td>1.839</td>\n",
       "      <td>1.941</td>\n",
       "      <td>1.888</td>\n",
       "    </tr>\n",
       "    <tr>\n",
       "      <th>1</th>\n",
       "      <td>1.946</td>\n",
       "      <td>1.907</td>\n",
       "      <td>1.868</td>\n",
       "      <td>1.917</td>\n",
       "      <td>2.000</td>\n",
       "      <td>1.785</td>\n",
       "      <td>1.936</td>\n",
       "      <td>1.853</td>\n",
       "    </tr>\n",
       "    <tr>\n",
       "      <th>2</th>\n",
       "      <td>1.961</td>\n",
       "      <td>1.936</td>\n",
       "      <td>1.780</td>\n",
       "      <td>1.888</td>\n",
       "      <td>1.932</td>\n",
       "      <td>1.800</td>\n",
       "      <td>1.922</td>\n",
       "      <td>1.829</td>\n",
       "    </tr>\n",
       "    <tr>\n",
       "      <th>3</th>\n",
       "      <td>1.897</td>\n",
       "      <td>1.863</td>\n",
       "      <td>1.775</td>\n",
       "      <td>1.853</td>\n",
       "      <td>1.907</td>\n",
       "      <td>1.731</td>\n",
       "      <td>1.883</td>\n",
       "      <td>1.765</td>\n",
       "    </tr>\n",
       "    <tr>\n",
       "      <th>4</th>\n",
       "      <td>1.966</td>\n",
       "      <td>1.927</td>\n",
       "      <td>1.839</td>\n",
       "      <td>1.932</td>\n",
       "      <td>1.956</td>\n",
       "      <td>1.804</td>\n",
       "      <td>1.892</td>\n",
       "      <td>1.853</td>\n",
       "    </tr>\n",
       "  </tbody>\n",
       "</table>\n",
       "</div>"
      ],
      "text/plain": [
       "   L1M1C1  L1M1C2  L1M1C3  L1M1C4  L1M1C5  L1M1C6  L1M1C7  L1M1C8\n",
       "0   1.961   1.990   1.922   2.005   2.000   1.839   1.941   1.888\n",
       "1   1.946   1.907   1.868   1.917   2.000   1.785   1.936   1.853\n",
       "2   1.961   1.936   1.780   1.888   1.932   1.800   1.922   1.829\n",
       "3   1.897   1.863   1.775   1.853   1.907   1.731   1.883   1.765\n",
       "4   1.966   1.927   1.839   1.932   1.956   1.804   1.892   1.853"
      ]
     },
     "execution_count": 17,
     "metadata": {},
     "output_type": "execute_result"
    }
   ],
   "source": [
    "df.head()"
   ]
  },
  {
   "cell_type": "code",
   "execution_count": 18,
   "id": "2f6bf486-1dba-480d-a51f-2f1fd2fb4e0e",
   "metadata": {},
   "outputs": [
    {
     "name": "stdout",
     "output_type": "stream",
     "text": [
      "<class 'pandas.core.frame.DataFrame'>\n",
      "RangeIndex: 240 entries, 0 to 239\n",
      "Data columns (total 8 columns):\n",
      " #   Column  Non-Null Count  Dtype  \n",
      "---  ------  --------------  -----  \n",
      " 0   L1M1C1  240 non-null    float64\n",
      " 1   L1M1C2  240 non-null    float64\n",
      " 2   L1M1C3  240 non-null    float64\n",
      " 3   L1M1C4  240 non-null    float64\n",
      " 4   L1M1C5  240 non-null    float64\n",
      " 5   L1M1C6  240 non-null    float64\n",
      " 6   L1M1C7  240 non-null    float64\n",
      " 7   L1M1C8  240 non-null    float64\n",
      "dtypes: float64(8)\n",
      "memory usage: 15.1 KB\n"
     ]
    }
   ],
   "source": [
    "df.info()"
   ]
  },
  {
   "cell_type": "code",
   "execution_count": 19,
   "id": "aee05ce9-4866-4d6b-9428-8a080d58594c",
   "metadata": {},
   "outputs": [
    {
     "data": {
      "text/html": [
       "<div>\n",
       "<style scoped>\n",
       "    .dataframe tbody tr th:only-of-type {\n",
       "        vertical-align: middle;\n",
       "    }\n",
       "\n",
       "    .dataframe tbody tr th {\n",
       "        vertical-align: top;\n",
       "    }\n",
       "\n",
       "    .dataframe thead th {\n",
       "        text-align: right;\n",
       "    }\n",
       "</style>\n",
       "<table border=\"1\" class=\"dataframe\">\n",
       "  <thead>\n",
       "    <tr style=\"text-align: right;\">\n",
       "      <th></th>\n",
       "      <th>L1M1C1</th>\n",
       "      <th>L1M1C2</th>\n",
       "      <th>L1M1C3</th>\n",
       "      <th>L1M1C4</th>\n",
       "      <th>L1M1C5</th>\n",
       "      <th>L1M1C6</th>\n",
       "      <th>L1M1C7</th>\n",
       "      <th>L1M1C8</th>\n",
       "    </tr>\n",
       "  </thead>\n",
       "  <tbody>\n",
       "    <tr>\n",
       "      <th>count</th>\n",
       "      <td>240.000000</td>\n",
       "      <td>240.000000</td>\n",
       "      <td>240.000000</td>\n",
       "      <td>240.000000</td>\n",
       "      <td>240.000000</td>\n",
       "      <td>240.000000</td>\n",
       "      <td>240.000000</td>\n",
       "      <td>240.000000</td>\n",
       "    </tr>\n",
       "    <tr>\n",
       "      <th>mean</th>\n",
       "      <td>1.916617</td>\n",
       "      <td>1.891346</td>\n",
       "      <td>1.807650</td>\n",
       "      <td>1.880954</td>\n",
       "      <td>1.918521</td>\n",
       "      <td>1.757192</td>\n",
       "      <td>1.877375</td>\n",
       "      <td>1.795167</td>\n",
       "    </tr>\n",
       "    <tr>\n",
       "      <th>std</th>\n",
       "      <td>0.044843</td>\n",
       "      <td>0.054526</td>\n",
       "      <td>0.059015</td>\n",
       "      <td>0.061929</td>\n",
       "      <td>0.054268</td>\n",
       "      <td>0.056832</td>\n",
       "      <td>0.053797</td>\n",
       "      <td>0.065324</td>\n",
       "    </tr>\n",
       "    <tr>\n",
       "      <th>min</th>\n",
       "      <td>1.824000</td>\n",
       "      <td>1.780000</td>\n",
       "      <td>1.716000</td>\n",
       "      <td>1.785000</td>\n",
       "      <td>1.824000</td>\n",
       "      <td>1.643000</td>\n",
       "      <td>1.756000</td>\n",
       "      <td>1.663000</td>\n",
       "    </tr>\n",
       "    <tr>\n",
       "      <th>25%</th>\n",
       "      <td>1.888000</td>\n",
       "      <td>1.863000</td>\n",
       "      <td>1.765000</td>\n",
       "      <td>1.841500</td>\n",
       "      <td>1.878000</td>\n",
       "      <td>1.714750</td>\n",
       "      <td>1.856750</td>\n",
       "      <td>1.760000</td>\n",
       "    </tr>\n",
       "    <tr>\n",
       "      <th>50%</th>\n",
       "      <td>1.914500</td>\n",
       "      <td>1.892500</td>\n",
       "      <td>1.794500</td>\n",
       "      <td>1.873000</td>\n",
       "      <td>1.912000</td>\n",
       "      <td>1.775000</td>\n",
       "      <td>1.883000</td>\n",
       "      <td>1.799500</td>\n",
       "    </tr>\n",
       "    <tr>\n",
       "      <th>75%</th>\n",
       "      <td>1.957250</td>\n",
       "      <td>1.922000</td>\n",
       "      <td>1.842500</td>\n",
       "      <td>1.917000</td>\n",
       "      <td>1.963250</td>\n",
       "      <td>1.800000</td>\n",
       "      <td>1.922000</td>\n",
       "      <td>1.848000</td>\n",
       "    </tr>\n",
       "    <tr>\n",
       "      <th>max</th>\n",
       "      <td>1.976000</td>\n",
       "      <td>1.990000</td>\n",
       "      <td>1.922000</td>\n",
       "      <td>2.005000</td>\n",
       "      <td>2.000000</td>\n",
       "      <td>1.839000</td>\n",
       "      <td>1.941000</td>\n",
       "      <td>1.888000</td>\n",
       "    </tr>\n",
       "  </tbody>\n",
       "</table>\n",
       "</div>"
      ],
      "text/plain": [
       "           L1M1C1      L1M1C2      L1M1C3      L1M1C4      L1M1C5      L1M1C6  \\\n",
       "count  240.000000  240.000000  240.000000  240.000000  240.000000  240.000000   \n",
       "mean     1.916617    1.891346    1.807650    1.880954    1.918521    1.757192   \n",
       "std      0.044843    0.054526    0.059015    0.061929    0.054268    0.056832   \n",
       "min      1.824000    1.780000    1.716000    1.785000    1.824000    1.643000   \n",
       "25%      1.888000    1.863000    1.765000    1.841500    1.878000    1.714750   \n",
       "50%      1.914500    1.892500    1.794500    1.873000    1.912000    1.775000   \n",
       "75%      1.957250    1.922000    1.842500    1.917000    1.963250    1.800000   \n",
       "max      1.976000    1.990000    1.922000    2.005000    2.000000    1.839000   \n",
       "\n",
       "           L1M1C7      L1M1C8  \n",
       "count  240.000000  240.000000  \n",
       "mean     1.877375    1.795167  \n",
       "std      0.053797    0.065324  \n",
       "min      1.756000    1.663000  \n",
       "25%      1.856750    1.760000  \n",
       "50%      1.883000    1.799500  \n",
       "75%      1.922000    1.848000  \n",
       "max      1.941000    1.888000  "
      ]
     },
     "execution_count": 19,
     "metadata": {},
     "output_type": "execute_result"
    }
   ],
   "source": [
    "df.describe()"
   ]
  },
  {
   "cell_type": "markdown",
   "id": "0d9776ef",
   "metadata": {},
   "source": [
    "### Reading from a URL"
   ]
  },
  {
   "cell_type": "code",
   "execution_count": 20,
   "id": "80fc00c6",
   "metadata": {},
   "outputs": [],
   "source": [
    "df_url = pd.read_csv(r'https://raw.githubusercontent.com/HiramAmaral/Videos/master/Pandas_Tips/ir2_leitura_1_M1.csv', sep=';', decimal=',')"
   ]
  },
  {
   "cell_type": "code",
   "execution_count": 22,
   "id": "0fdbb89b-4e0d-4343-b913-26550ce30e7f",
   "metadata": {},
   "outputs": [
    {
     "name": "stdout",
     "output_type": "stream",
     "text": [
      "<class 'pandas.core.frame.DataFrame'>\n",
      "RangeIndex: 240 entries, 0 to 239\n",
      "Data columns (total 8 columns):\n",
      " #   Column  Non-Null Count  Dtype  \n",
      "---  ------  --------------  -----  \n",
      " 0   L1M1C1  240 non-null    float64\n",
      " 1   L1M1C2  240 non-null    float64\n",
      " 2   L1M1C3  240 non-null    float64\n",
      " 3   L1M1C4  240 non-null    float64\n",
      " 4   L1M1C5  240 non-null    float64\n",
      " 5   L1M1C6  240 non-null    float64\n",
      " 6   L1M1C7  240 non-null    float64\n",
      " 7   L1M1C8  240 non-null    float64\n",
      "dtypes: float64(8)\n",
      "memory usage: 15.1 KB\n"
     ]
    }
   ],
   "source": [
    "df_url.info()"
   ]
  },
  {
   "cell_type": "code",
   "execution_count": 23,
   "id": "4637d3aa",
   "metadata": {},
   "outputs": [
    {
     "data": {
      "text/html": [
       "<div>\n",
       "<style scoped>\n",
       "    .dataframe tbody tr th:only-of-type {\n",
       "        vertical-align: middle;\n",
       "    }\n",
       "\n",
       "    .dataframe tbody tr th {\n",
       "        vertical-align: top;\n",
       "    }\n",
       "\n",
       "    .dataframe thead th {\n",
       "        text-align: right;\n",
       "    }\n",
       "</style>\n",
       "<table border=\"1\" class=\"dataframe\">\n",
       "  <thead>\n",
       "    <tr style=\"text-align: right;\">\n",
       "      <th></th>\n",
       "      <th>L1M1C1</th>\n",
       "      <th>L1M1C2</th>\n",
       "      <th>L1M1C3</th>\n",
       "      <th>L1M1C4</th>\n",
       "      <th>L1M1C5</th>\n",
       "      <th>L1M1C6</th>\n",
       "      <th>L1M1C7</th>\n",
       "      <th>L1M1C8</th>\n",
       "    </tr>\n",
       "  </thead>\n",
       "  <tbody>\n",
       "    <tr>\n",
       "      <th>0</th>\n",
       "      <td>1.961</td>\n",
       "      <td>1.990</td>\n",
       "      <td>1.922</td>\n",
       "      <td>2.005</td>\n",
       "      <td>2.000</td>\n",
       "      <td>1.839</td>\n",
       "      <td>1.941</td>\n",
       "      <td>1.888</td>\n",
       "    </tr>\n",
       "    <tr>\n",
       "      <th>1</th>\n",
       "      <td>1.946</td>\n",
       "      <td>1.907</td>\n",
       "      <td>1.868</td>\n",
       "      <td>1.917</td>\n",
       "      <td>2.000</td>\n",
       "      <td>1.785</td>\n",
       "      <td>1.936</td>\n",
       "      <td>1.853</td>\n",
       "    </tr>\n",
       "    <tr>\n",
       "      <th>2</th>\n",
       "      <td>1.961</td>\n",
       "      <td>1.936</td>\n",
       "      <td>1.780</td>\n",
       "      <td>1.888</td>\n",
       "      <td>1.932</td>\n",
       "      <td>1.800</td>\n",
       "      <td>1.922</td>\n",
       "      <td>1.829</td>\n",
       "    </tr>\n",
       "    <tr>\n",
       "      <th>3</th>\n",
       "      <td>1.897</td>\n",
       "      <td>1.863</td>\n",
       "      <td>1.775</td>\n",
       "      <td>1.853</td>\n",
       "      <td>1.907</td>\n",
       "      <td>1.731</td>\n",
       "      <td>1.883</td>\n",
       "      <td>1.765</td>\n",
       "    </tr>\n",
       "    <tr>\n",
       "      <th>4</th>\n",
       "      <td>1.966</td>\n",
       "      <td>1.927</td>\n",
       "      <td>1.839</td>\n",
       "      <td>1.932</td>\n",
       "      <td>1.956</td>\n",
       "      <td>1.804</td>\n",
       "      <td>1.892</td>\n",
       "      <td>1.853</td>\n",
       "    </tr>\n",
       "  </tbody>\n",
       "</table>\n",
       "</div>"
      ],
      "text/plain": [
       "   L1M1C1  L1M1C2  L1M1C3  L1M1C4  L1M1C5  L1M1C6  L1M1C7  L1M1C8\n",
       "0   1.961   1.990   1.922   2.005   2.000   1.839   1.941   1.888\n",
       "1   1.946   1.907   1.868   1.917   2.000   1.785   1.936   1.853\n",
       "2   1.961   1.936   1.780   1.888   1.932   1.800   1.922   1.829\n",
       "3   1.897   1.863   1.775   1.853   1.907   1.731   1.883   1.765\n",
       "4   1.966   1.927   1.839   1.932   1.956   1.804   1.892   1.853"
      ]
     },
     "execution_count": 23,
     "metadata": {},
     "output_type": "execute_result"
    }
   ],
   "source": [
    "df_url.head()"
   ]
  },
  {
   "cell_type": "markdown",
   "id": "2bb056f4",
   "metadata": {},
   "source": []
  },
  {
   "cell_type": "markdown",
   "id": "f6810e00",
   "metadata": {},
   "source": [
    "## $\\star$ Level Up! $\\star$"
   ]
  },
  {
   "cell_type": "markdown",
   "id": "3589f61e",
   "metadata": {},
   "source": [
    "### Index by a column: `index_col`"
   ]
  },
  {
   "cell_type": "code",
   "execution_count": 27,
   "id": "fcc264b4",
   "metadata": {},
   "outputs": [],
   "source": [
    "df = pd.read_csv(\n",
    "    r'ir2_leitura_1_M1.csv',sep=';', decimal=',',\n",
    "    index_col = 'L1M1C1' \n",
    ")"
   ]
  },
  {
   "cell_type": "code",
   "execution_count": 28,
   "id": "134d1556",
   "metadata": {},
   "outputs": [
    {
     "data": {
      "text/html": [
       "<div>\n",
       "<style scoped>\n",
       "    .dataframe tbody tr th:only-of-type {\n",
       "        vertical-align: middle;\n",
       "    }\n",
       "\n",
       "    .dataframe tbody tr th {\n",
       "        vertical-align: top;\n",
       "    }\n",
       "\n",
       "    .dataframe thead th {\n",
       "        text-align: right;\n",
       "    }\n",
       "</style>\n",
       "<table border=\"1\" class=\"dataframe\">\n",
       "  <thead>\n",
       "    <tr style=\"text-align: right;\">\n",
       "      <th></th>\n",
       "      <th>L1M1C2</th>\n",
       "      <th>L1M1C3</th>\n",
       "      <th>L1M1C4</th>\n",
       "      <th>L1M1C5</th>\n",
       "      <th>L1M1C6</th>\n",
       "      <th>L1M1C7</th>\n",
       "      <th>L1M1C8</th>\n",
       "    </tr>\n",
       "    <tr>\n",
       "      <th>L1M1C1</th>\n",
       "      <th></th>\n",
       "      <th></th>\n",
       "      <th></th>\n",
       "      <th></th>\n",
       "      <th></th>\n",
       "      <th></th>\n",
       "      <th></th>\n",
       "    </tr>\n",
       "  </thead>\n",
       "  <tbody>\n",
       "    <tr>\n",
       "      <th>1.961</th>\n",
       "      <td>1.990</td>\n",
       "      <td>1.922</td>\n",
       "      <td>2.005</td>\n",
       "      <td>2.000</td>\n",
       "      <td>1.839</td>\n",
       "      <td>1.941</td>\n",
       "      <td>1.888</td>\n",
       "    </tr>\n",
       "    <tr>\n",
       "      <th>1.946</th>\n",
       "      <td>1.907</td>\n",
       "      <td>1.868</td>\n",
       "      <td>1.917</td>\n",
       "      <td>2.000</td>\n",
       "      <td>1.785</td>\n",
       "      <td>1.936</td>\n",
       "      <td>1.853</td>\n",
       "    </tr>\n",
       "    <tr>\n",
       "      <th>1.961</th>\n",
       "      <td>1.936</td>\n",
       "      <td>1.780</td>\n",
       "      <td>1.888</td>\n",
       "      <td>1.932</td>\n",
       "      <td>1.800</td>\n",
       "      <td>1.922</td>\n",
       "      <td>1.829</td>\n",
       "    </tr>\n",
       "    <tr>\n",
       "      <th>1.897</th>\n",
       "      <td>1.863</td>\n",
       "      <td>1.775</td>\n",
       "      <td>1.853</td>\n",
       "      <td>1.907</td>\n",
       "      <td>1.731</td>\n",
       "      <td>1.883</td>\n",
       "      <td>1.765</td>\n",
       "    </tr>\n",
       "    <tr>\n",
       "      <th>1.966</th>\n",
       "      <td>1.927</td>\n",
       "      <td>1.839</td>\n",
       "      <td>1.932</td>\n",
       "      <td>1.956</td>\n",
       "      <td>1.804</td>\n",
       "      <td>1.892</td>\n",
       "      <td>1.853</td>\n",
       "    </tr>\n",
       "  </tbody>\n",
       "</table>\n",
       "</div>"
      ],
      "text/plain": [
       "        L1M1C2  L1M1C3  L1M1C4  L1M1C5  L1M1C6  L1M1C7  L1M1C8\n",
       "L1M1C1                                                        \n",
       "1.961    1.990   1.922   2.005   2.000   1.839   1.941   1.888\n",
       "1.946    1.907   1.868   1.917   2.000   1.785   1.936   1.853\n",
       "1.961    1.936   1.780   1.888   1.932   1.800   1.922   1.829\n",
       "1.897    1.863   1.775   1.853   1.907   1.731   1.883   1.765\n",
       "1.966    1.927   1.839   1.932   1.956   1.804   1.892   1.853"
      ]
     },
     "execution_count": 28,
     "metadata": {},
     "output_type": "execute_result"
    }
   ],
   "source": [
    "df.head()"
   ]
  },
  {
   "cell_type": "markdown",
   "id": "9b29971e",
   "metadata": {},
   "source": [
    "### Specify missing value characters: `na_values`"
   ]
  },
  {
   "cell_type": "code",
   "execution_count": 29,
   "id": "58c5924f",
   "metadata": {},
   "outputs": [
    {
     "name": "stdout",
     "output_type": "stream",
     "text": [
      "<class 'pandas.core.frame.DataFrame'>\n",
      "Index: 240 entries, 1.961 to 1.824\n",
      "Data columns (total 7 columns):\n",
      " #   Column  Non-Null Count  Dtype  \n",
      "---  ------  --------------  -----  \n",
      " 0   L1M1C2  240 non-null    float64\n",
      " 1   L1M1C3  240 non-null    float64\n",
      " 2   L1M1C4  240 non-null    float64\n",
      " 3   L1M1C5  240 non-null    float64\n",
      " 4   L1M1C6  240 non-null    float64\n",
      " 5   L1M1C7  240 non-null    float64\n",
      " 6   L1M1C8  240 non-null    float64\n",
      "dtypes: float64(7)\n",
      "memory usage: 15.0 KB\n"
     ]
    }
   ],
   "source": [
    "df.info()"
   ]
  },
  {
   "cell_type": "code",
   "execution_count": 14,
   "id": "6a802f17",
   "metadata": {},
   "outputs": [
    {
     "data": {
      "text/plain": [
       "Phone\n",
       "?               31\n",
       "602-310-9331     1\n",
       "411-437-8722     1\n",
       "563-866-1233     1\n",
       "406-143-1943     1\n",
       "                ..\n",
       "384-871-5619     1\n",
       "474-968-5565     1\n",
       "244-703-2661     1\n",
       "209-882-7213     1\n",
       "412-368-2550     1\n",
       "Name: count, Length: 938, dtype: int64"
      ]
     },
     "execution_count": 14,
     "metadata": {},
     "output_type": "execute_result"
    }
   ],
   "source": [
    "df.Phone.value_counts()"
   ]
  },
  {
   "cell_type": "code",
   "execution_count": 15,
   "id": "69eed33e",
   "metadata": {},
   "outputs": [
    {
     "data": {
      "text/plain": [
       "LTV\n",
       "?              12\n",
       "$496.87         1\n",
       "$4,031.13       1\n",
       "$2,158.26       1\n",
       "$7,342.30       1\n",
       "               ..\n",
       "$901.23         1\n",
       "$8,279.17       1\n",
       "$907.24         1\n",
       "$1,326.67       1\n",
       "$14,686.60      1\n",
       "Name: count, Length: 975, dtype: int64"
      ]
     },
     "execution_count": 15,
     "metadata": {},
     "output_type": "execute_result"
    }
   ],
   "source": [
    "df.LTV.value_counts()"
   ]
  },
  {
   "cell_type": "code",
   "execution_count": 32,
   "id": "3d1b4a25",
   "metadata": {},
   "outputs": [],
   "source": [
    "df = pd.read_csv(\n",
    "    'customers.csv',\n",
    "    index_col = 'ID', #index by ID column\n",
    "    na_values = '?'\n",
    ")"
   ]
  },
  {
   "cell_type": "code",
   "execution_count": 33,
   "id": "c7ca4ef6",
   "metadata": {},
   "outputs": [
    {
     "data": {
      "text/html": [
       "<div>\n",
       "<style scoped>\n",
       "    .dataframe tbody tr th:only-of-type {\n",
       "        vertical-align: middle;\n",
       "    }\n",
       "\n",
       "    .dataframe tbody tr th {\n",
       "        vertical-align: top;\n",
       "    }\n",
       "\n",
       "    .dataframe thead th {\n",
       "        text-align: right;\n",
       "    }\n",
       "</style>\n",
       "<table border=\"1\" class=\"dataframe\">\n",
       "  <thead>\n",
       "    <tr style=\"text-align: right;\">\n",
       "      <th></th>\n",
       "      <th>First Name</th>\n",
       "      <th>Last Name</th>\n",
       "      <th>Phone</th>\n",
       "      <th>LTV</th>\n",
       "    </tr>\n",
       "    <tr>\n",
       "      <th>ID</th>\n",
       "      <th></th>\n",
       "      <th></th>\n",
       "      <th></th>\n",
       "      <th></th>\n",
       "    </tr>\n",
       "  </thead>\n",
       "  <tbody>\n",
       "    <tr>\n",
       "      <th>4576</th>\n",
       "      <td>Sophia</td>\n",
       "      <td>Walker</td>\n",
       "      <td>602-310-9331</td>\n",
       "      <td>$496.87</td>\n",
       "    </tr>\n",
       "    <tr>\n",
       "      <th>9488</th>\n",
       "      <td>Evelyn</td>\n",
       "      <td>Harris</td>\n",
       "      <td>171-363-6978</td>\n",
       "      <td>$38,424.41</td>\n",
       "    </tr>\n",
       "    <tr>\n",
       "      <th>7265</th>\n",
       "      <td>Lucas</td>\n",
       "      <td>Foster</td>\n",
       "      <td>139-658-8905</td>\n",
       "      <td>$14,413.64</td>\n",
       "    </tr>\n",
       "    <tr>\n",
       "      <th>8555</th>\n",
       "      <td>Elijah</td>\n",
       "      <td>Jones</td>\n",
       "      <td>538-241-9868</td>\n",
       "      <td>$13,440.49</td>\n",
       "    </tr>\n",
       "    <tr>\n",
       "      <th>7023</th>\n",
       "      <td>Mason</td>\n",
       "      <td>Taylor</td>\n",
       "      <td>937-595-5837</td>\n",
       "      <td>$1,777.37</td>\n",
       "    </tr>\n",
       "  </tbody>\n",
       "</table>\n",
       "</div>"
      ],
      "text/plain": [
       "     First Name Last Name         Phone          LTV\n",
       "ID                                                  \n",
       "4576     Sophia    Walker  602-310-9331     $496.87 \n",
       "9488     Evelyn    Harris  171-363-6978  $38,424.41 \n",
       "7265      Lucas    Foster  139-658-8905  $14,413.64 \n",
       "8555     Elijah     Jones  538-241-9868  $13,440.49 \n",
       "7023      Mason    Taylor  937-595-5837   $1,777.37 "
      ]
     },
     "execution_count": 33,
     "metadata": {},
     "output_type": "execute_result"
    }
   ],
   "source": [
    "df.head()"
   ]
  },
  {
   "cell_type": "code",
   "execution_count": 34,
   "id": "669104cf",
   "metadata": {},
   "outputs": [
    {
     "name": "stdout",
     "output_type": "stream",
     "text": [
      "<class 'pandas.core.frame.DataFrame'>\n",
      "Index: 1000 entries, 4576 to 9062\n",
      "Data columns (total 4 columns):\n",
      " #   Column      Non-Null Count  Dtype \n",
      "---  ------      --------------  ----- \n",
      " 0   First Name  1000 non-null   object\n",
      " 1   Last Name   1000 non-null   object\n",
      " 2   Phone       937 non-null    object\n",
      " 3   LTV         974 non-null    object\n",
      "dtypes: object(4)\n",
      "memory usage: 39.1+ KB\n"
     ]
    }
   ],
   "source": [
    "df.info()"
   ]
  },
  {
   "cell_type": "code",
   "execution_count": 30,
   "id": "71935fcf",
   "metadata": {},
   "outputs": [
    {
     "data": {
      "text/plain": [
       "L1M1C2\n",
       "1.902    25\n",
       "1.932    23\n",
       "1.863    23\n",
       "1.790    22\n",
       "1.858    22\n",
       "1.985    21\n",
       "1.883    15\n",
       "1.917    14\n",
       "1.922    13\n",
       "1.868    11\n",
       "1.888     9\n",
       "1.878     6\n",
       "1.980     5\n",
       "1.927     4\n",
       "1.990     4\n",
       "1.912     4\n",
       "1.897     4\n",
       "1.853     4\n",
       "1.785     4\n",
       "1.780     3\n",
       "1.936     2\n",
       "1.907     1\n",
       "1.795     1\n",
       "Name: count, dtype: int64"
      ]
     },
     "execution_count": 30,
     "metadata": {},
     "output_type": "execute_result"
    }
   ],
   "source": [
    "df.L1M1C2.value_counts()"
   ]
  },
  {
   "cell_type": "markdown",
   "id": "80226b56",
   "metadata": {},
   "source": [
    "### Limiting the number of rows"
   ]
  },
  {
   "cell_type": "code",
   "execution_count": 31,
   "id": "e7c2a14a",
   "metadata": {},
   "outputs": [
    {
     "data": {
      "text/plain": [
       "(240, 7)"
      ]
     },
     "execution_count": 31,
     "metadata": {},
     "output_type": "execute_result"
    }
   ],
   "source": [
    "df.shape"
   ]
  },
  {
   "cell_type": "code",
   "execution_count": 32,
   "id": "47025cd7",
   "metadata": {},
   "outputs": [
    {
     "data": {
      "text/html": [
       "<div>\n",
       "<style scoped>\n",
       "    .dataframe tbody tr th:only-of-type {\n",
       "        vertical-align: middle;\n",
       "    }\n",
       "\n",
       "    .dataframe tbody tr th {\n",
       "        vertical-align: top;\n",
       "    }\n",
       "\n",
       "    .dataframe thead th {\n",
       "        text-align: right;\n",
       "    }\n",
       "</style>\n",
       "<table border=\"1\" class=\"dataframe\">\n",
       "  <thead>\n",
       "    <tr style=\"text-align: right;\">\n",
       "      <th></th>\n",
       "      <th>L1M1C2</th>\n",
       "      <th>L1M1C3</th>\n",
       "      <th>L1M1C4</th>\n",
       "      <th>L1M1C5</th>\n",
       "      <th>L1M1C6</th>\n",
       "      <th>L1M1C7</th>\n",
       "      <th>L1M1C8</th>\n",
       "    </tr>\n",
       "    <tr>\n",
       "      <th>L1M1C1</th>\n",
       "      <th></th>\n",
       "      <th></th>\n",
       "      <th></th>\n",
       "      <th></th>\n",
       "      <th></th>\n",
       "      <th></th>\n",
       "      <th></th>\n",
       "    </tr>\n",
       "  </thead>\n",
       "  <tbody>\n",
       "    <tr>\n",
       "      <th>1.888</th>\n",
       "      <td>1.853</td>\n",
       "      <td>1.760</td>\n",
       "      <td>1.844</td>\n",
       "      <td>1.892</td>\n",
       "      <td>1.716</td>\n",
       "      <td>1.873</td>\n",
       "      <td>1.756</td>\n",
       "    </tr>\n",
       "    <tr>\n",
       "      <th>1.951</th>\n",
       "      <td>1.912</td>\n",
       "      <td>1.829</td>\n",
       "      <td>1.917</td>\n",
       "      <td>1.941</td>\n",
       "      <td>1.800</td>\n",
       "      <td>1.878</td>\n",
       "      <td>1.839</td>\n",
       "    </tr>\n",
       "    <tr>\n",
       "      <th>1.892</th>\n",
       "      <td>1.878</td>\n",
       "      <td>1.809</td>\n",
       "      <td>1.824</td>\n",
       "      <td>1.873</td>\n",
       "      <td>1.697</td>\n",
       "      <td>1.858</td>\n",
       "      <td>1.770</td>\n",
       "    </tr>\n",
       "    <tr>\n",
       "      <th>1.868</th>\n",
       "      <td>1.858</td>\n",
       "      <td>1.756</td>\n",
       "      <td>1.858</td>\n",
       "      <td>1.878</td>\n",
       "      <td>1.765</td>\n",
       "      <td>1.839</td>\n",
       "      <td>1.756</td>\n",
       "    </tr>\n",
       "    <tr>\n",
       "      <th>1.824</th>\n",
       "      <td>1.780</td>\n",
       "      <td>1.716</td>\n",
       "      <td>1.785</td>\n",
       "      <td>1.824</td>\n",
       "      <td>1.643</td>\n",
       "      <td>1.760</td>\n",
       "      <td>1.663</td>\n",
       "    </tr>\n",
       "  </tbody>\n",
       "</table>\n",
       "</div>"
      ],
      "text/plain": [
       "        L1M1C2  L1M1C3  L1M1C4  L1M1C5  L1M1C6  L1M1C7  L1M1C8\n",
       "L1M1C1                                                        \n",
       "1.888    1.853   1.760   1.844   1.892   1.716   1.873   1.756\n",
       "1.951    1.912   1.829   1.917   1.941   1.800   1.878   1.839\n",
       "1.892    1.878   1.809   1.824   1.873   1.697   1.858   1.770\n",
       "1.868    1.858   1.756   1.858   1.878   1.765   1.839   1.756\n",
       "1.824    1.780   1.716   1.785   1.824   1.643   1.760   1.663"
      ]
     },
     "execution_count": 32,
     "metadata": {},
     "output_type": "execute_result"
    }
   ],
   "source": [
    "df.tail()"
   ]
  },
  {
   "cell_type": "code",
   "execution_count": 34,
   "id": "6c92092a",
   "metadata": {},
   "outputs": [],
   "source": [
    "df = pd.read_csv(\n",
    "    r'ir2_leitura_1_M1.csv',sep=';', decimal=',',\n",
    "    index_col = 'L1M1C1', #index by ID column\n",
    "    na_values = '?', #treat ? characters as missings\n",
    "    nrows = 100\n",
    ")"
   ]
  },
  {
   "cell_type": "code",
   "execution_count": 35,
   "id": "b15ea4b8",
   "metadata": {},
   "outputs": [
    {
     "data": {
      "text/plain": [
       "(100, 7)"
      ]
     },
     "execution_count": 35,
     "metadata": {},
     "output_type": "execute_result"
    }
   ],
   "source": [
    "df.shape"
   ]
  },
  {
   "cell_type": "code",
   "execution_count": 36,
   "id": "b2b0b046",
   "metadata": {},
   "outputs": [
    {
     "data": {
      "text/html": [
       "<div>\n",
       "<style scoped>\n",
       "    .dataframe tbody tr th:only-of-type {\n",
       "        vertical-align: middle;\n",
       "    }\n",
       "\n",
       "    .dataframe tbody tr th {\n",
       "        vertical-align: top;\n",
       "    }\n",
       "\n",
       "    .dataframe thead th {\n",
       "        text-align: right;\n",
       "    }\n",
       "</style>\n",
       "<table border=\"1\" class=\"dataframe\">\n",
       "  <thead>\n",
       "    <tr style=\"text-align: right;\">\n",
       "      <th></th>\n",
       "      <th>L1M1C2</th>\n",
       "      <th>L1M1C3</th>\n",
       "      <th>L1M1C4</th>\n",
       "      <th>L1M1C5</th>\n",
       "      <th>L1M1C6</th>\n",
       "      <th>L1M1C7</th>\n",
       "      <th>L1M1C8</th>\n",
       "    </tr>\n",
       "    <tr>\n",
       "      <th>L1M1C1</th>\n",
       "      <th></th>\n",
       "      <th></th>\n",
       "      <th></th>\n",
       "      <th></th>\n",
       "      <th></th>\n",
       "      <th></th>\n",
       "      <th></th>\n",
       "    </tr>\n",
       "  </thead>\n",
       "  <tbody>\n",
       "    <tr>\n",
       "      <th>1.834</th>\n",
       "      <td>1.790</td>\n",
       "      <td>1.721</td>\n",
       "      <td>1.790</td>\n",
       "      <td>1.829</td>\n",
       "      <td>1.648</td>\n",
       "      <td>1.765</td>\n",
       "      <td>1.667</td>\n",
       "    </tr>\n",
       "    <tr>\n",
       "      <th>1.971</th>\n",
       "      <td>1.985</td>\n",
       "      <td>1.917</td>\n",
       "      <td>2.005</td>\n",
       "      <td>1.995</td>\n",
       "      <td>1.829</td>\n",
       "      <td>1.941</td>\n",
       "      <td>1.883</td>\n",
       "    </tr>\n",
       "    <tr>\n",
       "      <th>1.941</th>\n",
       "      <td>1.902</td>\n",
       "      <td>1.858</td>\n",
       "      <td>1.912</td>\n",
       "      <td>1.995</td>\n",
       "      <td>1.780</td>\n",
       "      <td>1.932</td>\n",
       "      <td>1.848</td>\n",
       "    </tr>\n",
       "    <tr>\n",
       "      <th>1.956</th>\n",
       "      <td>1.932</td>\n",
       "      <td>1.775</td>\n",
       "      <td>1.883</td>\n",
       "      <td>1.922</td>\n",
       "      <td>1.800</td>\n",
       "      <td>1.912</td>\n",
       "      <td>1.824</td>\n",
       "    </tr>\n",
       "    <tr>\n",
       "      <th>1.897</th>\n",
       "      <td>1.858</td>\n",
       "      <td>1.765</td>\n",
       "      <td>1.848</td>\n",
       "      <td>1.902</td>\n",
       "      <td>1.721</td>\n",
       "      <td>1.883</td>\n",
       "      <td>1.760</td>\n",
       "    </tr>\n",
       "  </tbody>\n",
       "</table>\n",
       "</div>"
      ],
      "text/plain": [
       "        L1M1C2  L1M1C3  L1M1C4  L1M1C5  L1M1C6  L1M1C7  L1M1C8\n",
       "L1M1C1                                                        \n",
       "1.834    1.790   1.721   1.790   1.829   1.648   1.765   1.667\n",
       "1.971    1.985   1.917   2.005   1.995   1.829   1.941   1.883\n",
       "1.941    1.902   1.858   1.912   1.995   1.780   1.932   1.848\n",
       "1.956    1.932   1.775   1.883   1.922   1.800   1.912   1.824\n",
       "1.897    1.858   1.765   1.848   1.902   1.721   1.883   1.760"
      ]
     },
     "execution_count": 36,
     "metadata": {},
     "output_type": "execute_result"
    }
   ],
   "source": [
    "df.tail()"
   ]
  },
  {
   "cell_type": "code",
   "execution_count": null,
   "id": "b1585a94",
   "metadata": {},
   "outputs": [],
   "source": []
  }
 ],
 "metadata": {
  "kernelspec": {
   "display_name": "Python 3 (ipykernel)",
   "language": "python",
   "name": "python3"
  },
  "language_info": {
   "codemirror_mode": {
    "name": "ipython",
    "version": 3
   },
   "file_extension": ".py",
   "mimetype": "text/x-python",
   "name": "python",
   "nbconvert_exporter": "python",
   "pygments_lexer": "ipython3",
   "version": "3.12.3"
  }
 },
 "nbformat": 4,
 "nbformat_minor": 5
}
